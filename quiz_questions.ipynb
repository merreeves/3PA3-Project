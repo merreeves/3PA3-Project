{
  "cells": [
    {
      "cell_type": "markdown",
      "metadata": {
        "id": "_StnQEDHmewD"
      },
      "source": [
        "# Quiz Questions Assignment\n",
        "\n",
        "## &#x1f468;&#x200d;&#x1f3eb; Purpose\n",
        "This contains questions from sections 3-8 of CHEM 3PA3.\n",
        "1. &#x1f3b2; Multiple-Choice Questions (one or more answers, separated by spaces or commas)\n",
        "2. &#x1fa99; True/False Questions (write True/False)\n",
        "3. &#x1F5A9; Numerical answers requiring some calculation (write the numerical answer in the requested units; significant figures are not checked)\n",
        "4. &#x1f9ee; Numerical answers requiring no calculation (usually just counting) (write the answer as a number)\n",
        "4. &#x1f500; Matching Questions (write pairs sequentially)."
      ]
    },
    {
      "cell_type": "markdown",
      "source": [
        "### Base Questions"
      ],
      "metadata": {
        "id": "KWqta0UicjEJ"
      }
    },
    {
      "cell_type": "markdown",
      "source": [
        "------\n",
        "**1. &#x1f500; Match the following concepts to the associated experiment (3 concepts per experiment).**\n",
        "\n",
        "|Experiment|Concept|\n",
        "|--|--|\n",
        "|**A.** Photoelectric Effect | **1.** Experiment measures emitted photon |\n",
        "|**B.** Compton Scattering  | **2.** Lower energy incident light|\n",
        "|   | **3.** Higher energy incident light|\n",
        "|   | **4.** Photon is completely absorbed|\n",
        "|   | **5.** Experiment measures ejected electron|\n",
        "|   | **6.** Emitted photon is lower in energy than incident photon|\n",
        "\n",
        "**Answer:** A, 2 4 5, B, 1 3 6"
      ],
      "metadata": {
        "id": "RO1b45obrFNd"
      }
    },
    {
      "cell_type": "markdown",
      "source": [
        "------\n",
        "**2. &#x1f3b2; The Time Independent Schrodinger Equation can be solved by separation of variables. How would you define your wavefunction ($\\Psi$) and eigenvalue equations?**\n",
        "\n",
        "A.\n",
        "$$\n",
        "\\Psi\\left(x\\right)=\n",
        "\\begin{cases}\n",
        "ψ(x, t) = φ(x) + θ(t)\n",
        "\\\\\n",
        "a = a_x + a_y\n",
        "\\end{cases}\n",
        "$$\n",
        "\n",
        "B.\n",
        "$$\n",
        "\\Psi\\left(x\\right)=\n",
        "\\begin{cases}\n",
        "ψ(x, t) = φ(x) * θ(t)\n",
        "\\\\\n",
        "a = a_x * a_y\n",
        "\\end{cases}\n",
        "$$\n",
        "\n",
        "C.\n",
        "$$\n",
        "\\Psi\\left(x\\right)=\n",
        "\\begin{cases}\n",
        "ψ(x, t) = φ(x) + θ(t)\n",
        "\\\\\n",
        "a = a_x * a_y\n",
        "\\end{cases}\n",
        "$$\n",
        "\n",
        "D.\n",
        "$$\n",
        "\\Psi\\left(x\\right)=\n",
        "\\begin{cases}\n",
        "ψ(x, t) = φ(x) * θ(t)\n",
        "\\\\\n",
        "a = a_x + a_y\n",
        "\\end{cases}\n",
        "$$\n",
        "\n",
        "**Answer:** D"
      ],
      "metadata": {
        "id": "Lltzz4ESxK8o"
      }
    },
    {
      "cell_type": "markdown",
      "source": [
        "-----------------\n",
        "**3. &#x1F5A9; Find the probability that the of observing a particle in a 1D-box at $x = \\frac{a}{4}$ where the length of the box is $a = 1.0$ and the particle is in the ninth excited state.**\n",
        "\n",
        "**Answer**: 1.4142135623730951"
      ],
      "metadata": {
        "id": "SbqpJng5v_ZG"
      }
    },
    {
      "cell_type": "markdown",
      "source": [
        "----------------\n",
        "**4. &#x1f9ee; Given that the box lengths for some particle in a 3D-box are $a_x = a, a_y = 2a, a_z = 4a$, find $w$ such that the following two states are degenerate**:\n",
        "\n",
        "$(n_x, n_y, n_z)$ : $(1, w, 9) = (1, 6, 1)$\n",
        "\n",
        "**Answer:** 4"
      ],
      "metadata": {
        "id": "XZ4wvGZ0raFx"
      }
    },
    {
      "cell_type": "markdown",
      "source": [
        "------\n",
        "**5. &#x1fa99; The Curl Operator, $ ∇ \\times F $ (where $F$ is a function), is a linear operator. (True/False)**\n",
        "\n",
        "**Answer:** True\n"
      ],
      "metadata": {
        "id": "3Br2oUUe2fUG"
      }
    },
    {
      "cell_type": "markdown",
      "source": [
        "-----------------\n",
        "**6. &#x1F5A9; Find the wavelength (in meters) of light that corresponds to a transition from the first excited state to the fifth excited state of a 1-electron beryllium cation**.\n",
        "\n",
        "**Answer**: 9.491809332707036e-10"
      ],
      "metadata": {
        "id": "7Nw-Xdq75asx"
      }
    },
    {
      "cell_type": "markdown",
      "source": [
        "### Extra Questions\n"
      ],
      "metadata": {
        "id": "sXV0sv86clvX"
      }
    },
    {
      "cell_type": "markdown",
      "source": [
        "------\n",
        "**7. &#x1fa99; The Curl Operator, $ ∇ \\times F $ (where $F$ is a function), is a Hermitian operator. (True/False)**\n",
        "\n",
        "**Answer**: True"
      ],
      "metadata": {
        "id": "HYEs1kClcADl"
      }
    },
    {
      "cell_type": "markdown",
      "source": [
        "------\n",
        "8.🖩 **A hydrogen-like atom undergoes a transition from \\(n = 4\\) to \\(n = 2\\), emitting a photon.\n",
        "If we compare a hydrogen atom to a lithium ion, by what factor does the wavelength of the emitted photon change?**\n",
        "\n",
        "\n",
        "\n",
        "A. It decreases by a factor of 9\n",
        "\n",
        "B. It decreases by a factor of 3\n",
        "\n",
        "C. It increases by a factor of 3\n",
        "\n",
        "D. It increases by a factor of 9"
        "\n",
        "**Answer**: A"
      ],
      "metadata": {
        "id": "ogHRpNie18go"
      }
    }
  ],
  "metadata": {
    "kernelspec": {
      "display_name": "base",
      "language": "python",
      "name": "python3"
    },
    "language_info": {
      "name": "python",
      "version": "3.9.13"
    },
    "colab": {
      "provenance": []
    }
  },
  "nbformat": 4,
  "nbformat_minor": 0
}
