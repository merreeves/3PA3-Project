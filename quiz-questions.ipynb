{
 "cells": [
  {
   "cell_type": "markdown",
   "metadata": {},
   "source": [
    "# Quiz Questions Assignment\n",
    "\n",
    "## &#x1f468;&#x200d;&#x1f3eb; Purpose\n",
    "This contains questions from sections 3-8 of CHEM 3PA3.\n",
    "1. &#x1f3b2; Multiple-Choice Questions (one or more answers, separated by spaces or commas)\n",
    "2. &#x1fa99; True/False Questions (write True/False)\n",
    "3. &#x1F5A9; Numerical answers requiring some calculation (write the numerical answer in the requested units; significant figures are not checked)\n",
    "4. &#x1f9ee; Numerical answers requiring no calculation (usually just counting) (write the answer as a number)\n",
    "4. &#x1f500; Matching Questions (write pairs sequentially)."
   ]
  }
 ],
 "metadata": {
  "kernelspec": {
   "display_name": "base",
   "language": "python",
   "name": "python3"
  },
  "language_info": {
   "name": "python",
   "version": "3.9.13"
  }
 },
 "nbformat": 4,
 "nbformat_minor": 2
}
